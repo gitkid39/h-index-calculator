{
 "cells": [
  {
   "cell_type": "code",
   "execution_count": null,
   "metadata": {},
   "outputs": [],
   "source": [
    "import csv"
   ]
  },
  {
   "cell_type": "code",
   "execution_count": null,
   "metadata": {},
   "outputs": [],
   "source": [
    "with open('citation.csv', 'rb') as csvfile:\n",
    "    data = list(csv.reader(csvfile))"
   ]
  },
  {
   "cell_type": "code",
   "execution_count": null,
   "metadata": {},
   "outputs": [],
   "source": [
    "datacon = [[row[0],int(row[1])] for row in data]"
   ]
  },
  {
   "cell_type": "code",
   "execution_count": null,
   "metadata": {},
   "outputs": [],
   "source": [
    "hindexlist = []\n",
    "datc = 0\n",
    "hindex = 0\n",
    "count = 0\n",
    "name=datacon[0][0]\n",
    "for datum in datacon:\n",
    "    if datum[0] != name:\n",
    "        row = [name, hindex]\n",
    "        hindexlist.append(row)\n",
    "        hindex = 0\n",
    "        count = 0\n",
    "        name = datum[0]\n",
    "    count = count + 1\n",
    "    if count <= datum[1]:\n",
    "        hindex = hindex + 1\n",
    "        continue\n"
   ]
  },
  {
   "cell_type": "code",
   "execution_count": null,
   "metadata": {},
   "outputs": [],
   "source": [
    "hindexlist = [[row[0],str(row[1])] for row in hindexlist]"
   ]
  },
  {
   "cell_type": "code",
   "execution_count": null,
   "metadata": {},
   "outputs": [],
   "source": [
    "with open('hindex.csv', 'wr') as hindexfile:\n",
    "    writer = csv.writer(hindexfile)\n",
    "    writer.writerows(hindexlist)"
   ]
  }
 ],
 "metadata": {
  "kernelspec": {
   "display_name": "Python 2",
   "language": "python",
   "name": "python2"
  },
  "language_info": {
   "codemirror_mode": {
    "name": "ipython",
    "version": 2
   },
   "file_extension": ".py",
   "mimetype": "text/x-python",
   "name": "python",
   "nbconvert_exporter": "python",
   "pygments_lexer": "ipython2",
   "version": "2.7.15+"
  }
 },
 "nbformat": 4,
 "nbformat_minor": 2
}
